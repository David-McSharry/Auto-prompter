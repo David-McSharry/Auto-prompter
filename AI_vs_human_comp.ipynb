{
 "cells": [
  {
   "cell_type": "code",
   "execution_count": 1,
   "metadata": {},
   "outputs": [
    {
     "name": "stderr",
     "output_type": "stream",
     "text": [
      "/vol/bitbucket/dm2223/CoT-experiments/.venv/lib/python3.10/site-packages/tqdm/auto.py:21: TqdmWarning: IProgress not found. Please update jupyter and ipywidgets. See https://ipywidgets.readthedocs.io/en/stable/user_install.html\n",
      "  from .autonotebook import tqdm as notebook_tqdm\n",
      "Downloading data: 100%|██████████| 3.68M/3.68M [00:01<00:00, 2.69MB/s]\n",
      "Downloading data: 100%|██████████| 290k/290k [00:00<00:00, 339kB/s]\n",
      "Downloading data: 100%|██████████| 289k/289k [00:00<00:00, 339kB/s]\n",
      "Generating train split: 100%|██████████| 7376/7376 [00:00<00:00, 22934.41 examples/s]\n",
      "Generating validation split: 100%|██████████| 651/651 [00:00<00:00, 56782.33 examples/s]\n",
      "Generating test split: 100%|██████████| 651/651 [00:00<00:00, 59727.27 examples/s]\n"
     ]
    }
   ],
   "source": [
    "from datasets import load_dataset\n",
    "\n",
    "# Load the dataset\n",
    "dataset = load_dataset(\"lucasmccabe/logiqa\")\n"
   ]
  },
  {
   "cell_type": "code",
   "execution_count": 7,
   "metadata": {},
   "outputs": [
    {
     "name": "stdout",
     "output_type": "stream",
     "text": [
      "{'context': \"Some Cantonese don't like chili, so some southerners don't like chili.\", 'query': 'Which of the following can guarantee the above argument?', 'options': ['Some Cantonese love chili.', 'Some people who like peppers are southerners.', 'All Cantonese are southerners.', 'Some Cantonese like neither peppers nor sweets.'], 'correct_option': 2}\n"
     ]
    }
   ],
   "source": [
    "print(dataset[\"train\"][0])"
   ]
  },
  {
   "cell_type": "code",
   "execution_count": null,
   "metadata": {},
   "outputs": [],
   "source": []
  },
  {
   "cell_type": "code",
   "execution_count": null,
   "metadata": {},
   "outputs": [],
   "source": []
  }
 ],
 "metadata": {
  "kernelspec": {
   "display_name": ".venv",
   "language": "python",
   "name": "python3"
  },
  "language_info": {
   "codemirror_mode": {
    "name": "ipython",
    "version": 3
   },
   "file_extension": ".py",
   "mimetype": "text/x-python",
   "name": "python",
   "nbconvert_exporter": "python",
   "pygments_lexer": "ipython3",
   "version": "3.10.12"
  }
 },
 "nbformat": 4,
 "nbformat_minor": 2
}
